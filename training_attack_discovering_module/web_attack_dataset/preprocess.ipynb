{
 "cells": [
  {
   "cell_type": "code",
   "execution_count": 99,
   "metadata": {},
   "outputs": [],
   "source": [
    "import pandas as pd"
   ]
  },
  {
   "cell_type": "code",
   "execution_count": 100,
   "metadata": {},
   "outputs": [],
   "source": [
    "# import re\n",
    "\n",
    "# strs = \"how much for the maple syrup? $20.99? That's ricidulous!!!\"\n",
    "# print(strs)\n",
    "# nstr = re.sub(r'[?|$|.|!]',r'',strs)\n",
    "# print(nstr)\n",
    "# nestr = re.sub(r'[^a-zA-Z ]',r'',nstr)\n",
    "# print(nestr)"
   ]
  },
  {
   "cell_type": "code",
   "execution_count": 101,
   "metadata": {},
   "outputs": [
    {
     "data": {
      "text/html": [
       "<div>\n",
       "<style scoped>\n",
       "    .dataframe tbody tr th:only-of-type {\n",
       "        vertical-align: middle;\n",
       "    }\n",
       "\n",
       "    .dataframe tbody tr th {\n",
       "        vertical-align: top;\n",
       "    }\n",
       "\n",
       "    .dataframe thead th {\n",
       "        text-align: right;\n",
       "    }\n",
       "</style>\n",
       "<table border=\"1\" class=\"dataframe\">\n",
       "  <thead>\n",
       "    <tr style=\"text-align: right;\">\n",
       "      <th></th>\n",
       "      <th>text</th>\n",
       "      <th>label</th>\n",
       "    </tr>\n",
       "  </thead>\n",
       "  <tbody>\n",
       "    <tr>\n",
       "      <th>0</th>\n",
       "      <td>GET  blog index.php 2020 04 04 voluptatum-repr...</td>\n",
       "      <td>000 - Normal</td>\n",
       "    </tr>\n",
       "    <tr>\n",
       "      <th>1</th>\n",
       "      <td>GET  blog xmlrpc.php?rsd</td>\n",
       "      <td>000 - Normal</td>\n",
       "    </tr>\n",
       "    <tr>\n",
       "      <th>2</th>\n",
       "      <td>GET  blog index.php 2020 04 04 nihil-tenetur-e...</td>\n",
       "      <td>000 - Normal</td>\n",
       "    </tr>\n",
       "    <tr>\n",
       "      <th>3</th>\n",
       "      <td>GET  blog index.php 2020 04 04 explicabo-qui-f...</td>\n",
       "      <td>000 - Normal</td>\n",
       "    </tr>\n",
       "    <tr>\n",
       "      <th>4</th>\n",
       "      <td>GET  blog index.php 2020 04 04 explicabo-qui-f...</td>\n",
       "      <td>000 - Normal</td>\n",
       "    </tr>\n",
       "  </tbody>\n",
       "</table>\n",
       "</div>"
      ],
      "text/plain": [
       "                                                text         label\n",
       "0  GET  blog index.php 2020 04 04 voluptatum-repr...  000 - Normal\n",
       "1                           GET  blog xmlrpc.php?rsd  000 - Normal\n",
       "2  GET  blog index.php 2020 04 04 nihil-tenetur-e...  000 - Normal\n",
       "3  GET  blog index.php 2020 04 04 explicabo-qui-f...  000 - Normal\n",
       "4  GET  blog index.php 2020 04 04 explicabo-qui-f...  000 - Normal"
      ]
     },
     "execution_count": 101,
     "metadata": {},
     "output_type": "execute_result"
    }
   ],
   "source": [
    "df_capec = pd.read_csv('dataset_capec_known.csv')\n",
    "\n",
    "# Optional (not effect very much)\n",
    "df_capec['text'] = df_capec['text'].str.replace('/',' ')\n",
    "df_capec.head()"
   ]
  },
  {
   "cell_type": "code",
   "execution_count": 102,
   "metadata": {},
   "outputs": [],
   "source": [
    "known_request = [d.lower() for d in df_capec['text']]\n",
    "known_request = [' '.join(d.split()) for d in known_request]\n"
   ]
  },
  {
   "cell_type": "code",
   "execution_count": 103,
   "metadata": {},
   "outputs": [],
   "source": [
    "# import re\n",
    "\n",
    "# known_request = [re.sub(r'[^a-zA-Z ]',r' ',d) for d in known_request]\n",
    "# known_request = [' '.join(d.split()) for d in known_request]\n",
    "# known_request"
   ]
  },
  {
   "cell_type": "code",
   "execution_count": 104,
   "metadata": {},
   "outputs": [
    {
     "data": {
      "text/html": [
       "<div>\n",
       "<style scoped>\n",
       "    .dataframe tbody tr th:only-of-type {\n",
       "        vertical-align: middle;\n",
       "    }\n",
       "\n",
       "    .dataframe tbody tr th {\n",
       "        vertical-align: top;\n",
       "    }\n",
       "\n",
       "    .dataframe thead th {\n",
       "        text-align: right;\n",
       "    }\n",
       "</style>\n",
       "<table border=\"1\" class=\"dataframe\">\n",
       "  <thead>\n",
       "    <tr style=\"text-align: right;\">\n",
       "      <th></th>\n",
       "      <th>text</th>\n",
       "      <th>label</th>\n",
       "    </tr>\n",
       "  </thead>\n",
       "  <tbody>\n",
       "    <tr>\n",
       "      <th>0</th>\n",
       "      <td>GET  index.php?s= Index \\x5Cthink\\x5Capp invok...</td>\n",
       "      <td>242 - Code Injection</td>\n",
       "    </tr>\n",
       "    <tr>\n",
       "      <th>1</th>\n",
       "      <td>GET  index.php?s= module action param1 ${@die(...</td>\n",
       "      <td>88 - OS Command Injection</td>\n",
       "    </tr>\n",
       "    <tr>\n",
       "      <th>2</th>\n",
       "      <td>POST  blog index.php my-account edit-password ...</td>\n",
       "      <td>153 - Input Data Manipulation</td>\n",
       "    </tr>\n",
       "    <tr>\n",
       "      <th>3</th>\n",
       "      <td>POST  blog index.php my-account edit-password ...</td>\n",
       "      <td>153 - Input Data Manipulation</td>\n",
       "    </tr>\n",
       "    <tr>\n",
       "      <th>4</th>\n",
       "      <td>POST  blog index.php my-account edit-password ...</td>\n",
       "      <td>153 - Input Data Manipulation</td>\n",
       "    </tr>\n",
       "  </tbody>\n",
       "</table>\n",
       "</div>"
      ],
      "text/plain": [
       "                                                text  \\\n",
       "0  GET  index.php?s= Index \\x5Cthink\\x5Capp invok...   \n",
       "1  GET  index.php?s= module action param1 ${@die(...   \n",
       "2  POST  blog index.php my-account edit-password ...   \n",
       "3  POST  blog index.php my-account edit-password ...   \n",
       "4  POST  blog index.php my-account edit-password ...   \n",
       "\n",
       "                           label  \n",
       "0           242 - Code Injection  \n",
       "1      88 - OS Command Injection  \n",
       "2  153 - Input Data Manipulation  \n",
       "3  153 - Input Data Manipulation  \n",
       "4  153 - Input Data Manipulation  "
      ]
     },
     "execution_count": 104,
     "metadata": {},
     "output_type": "execute_result"
    }
   ],
   "source": [
    "df_transfer = pd.read_csv('dataset_capec_unknown.csv')\n",
    "\n",
    "# Optional (not effect very much)\n",
    "df_transfer['text'] = df_transfer['text'].str.replace('/',' ')\n",
    "df_transfer.head()"
   ]
  },
  {
   "cell_type": "code",
   "execution_count": 105,
   "metadata": {},
   "outputs": [],
   "source": [
    "unknown_request = [d.lower() for d in df_transfer['text']]\n",
    "unknown_request = [' '.join(d.split()) for d in unknown_request]"
   ]
  },
  {
   "cell_type": "code",
   "execution_count": 106,
   "metadata": {},
   "outputs": [],
   "source": [
    "# unknown_request = [re.sub(r'[^a-zA-Z ]',r' ',d) for d in unknown_request]\n",
    "# unknown_request = [' '.join(d.split()) for d in unknown_request]\n",
    "# unknown_request"
   ]
  },
  {
   "cell_type": "code",
   "execution_count": 107,
   "metadata": {},
   "outputs": [
    {
     "data": {
      "text/plain": [
       "576619"
      ]
     },
     "execution_count": 107,
     "metadata": {},
     "output_type": "execute_result"
    }
   ],
   "source": [
    "len(known_request)"
   ]
  },
  {
   "cell_type": "code",
   "execution_count": 108,
   "metadata": {},
   "outputs": [
    {
     "data": {
      "text/plain": [
       "18253"
      ]
     },
     "execution_count": 108,
     "metadata": {},
     "output_type": "execute_result"
    }
   ],
   "source": [
    "len(unknown_request)"
   ]
  },
  {
   "cell_type": "code",
   "execution_count": 109,
   "metadata": {},
   "outputs": [],
   "source": [
    "import random\n",
    "\n",
    "random.shuffle(known_request)\n",
    "random.shuffle(unknown_request)"
   ]
  },
  {
   "cell_type": "code",
   "execution_count": null,
   "metadata": {},
   "outputs": [],
   "source": []
  },
  {
   "attachments": {},
   "cell_type": "markdown",
   "metadata": {},
   "source": [
    "### Web attack full"
   ]
  },
  {
   "cell_type": "code",
   "execution_count": 110,
   "metadata": {},
   "outputs": [],
   "source": [
    "test_known = known_request[0:6000]\n",
    "train_known = known_request[6000:]\n"
   ]
  },
  {
   "cell_type": "code",
   "execution_count": 97,
   "metadata": {},
   "outputs": [],
   "source": [
    "with open('web_attack_full/test/known.txt', 'w') as fp:\n",
    "    fp.write(\"\\n\".join(str(item) for item in test_known))\n",
    "\n",
    "with open('web_attack_full/test/known-outliers.txt', 'w') as fp:\n",
    "    fp.write(\"\\n\".join(str(item) for item in unknown_request))\n",
    "\n",
    "with open('web_attack_full/train/known.txt', 'w') as fp:\n",
    "    fp.write(\"\\n\".join(str(item) for item in train_known))"
   ]
  },
  {
   "attachments": {},
   "cell_type": "markdown",
   "metadata": {},
   "source": [
    "### Web attack subset"
   ]
  },
  {
   "cell_type": "code",
   "execution_count": 98,
   "metadata": {},
   "outputs": [],
   "source": [
    "train_known_subset = known_request[18000:118000]\n",
    "\n",
    "with open('web_attack_subset/test/known.txt', 'w') as fp:\n",
    "    fp.write(\"\\n\".join(str(item) for item in test_known))\n",
    "\n",
    "with open('web_attack_subset/test/known-outliers.txt', 'w') as fp:\n",
    "    fp.write(\"\\n\".join(str(item) for item in unknown_request))\n",
    "\n",
    "with open('web_attack_subset/train/known.txt', 'w') as fp:\n",
    "    fp.write(\"\\n\".join(str(item) for item in train_known_subset))\n"
   ]
  },
  {
   "cell_type": "code",
   "execution_count": 48,
   "metadata": {},
   "outputs": [],
   "source": [
    "# import numpy as np\n",
    "# from sklearn.metrics import f1_score"
   ]
  },
  {
   "cell_type": "code",
   "execution_count": 76,
   "metadata": {},
   "outputs": [
    {
     "data": {
      "text/plain": [
       "0.7575757575757575"
      ]
     },
     "execution_count": 76,
     "metadata": {},
     "output_type": "execute_result"
    }
   ],
   "source": [
    "# y_true_empty = [1, 0, 0, 0, 0, 0]\n",
    "# y_pred_empty = [0, 0, 0, 0, 0, 0]\n",
    "\n",
    "# f1_score(y_true_empty, y_pred_empty, average='weighted')"
   ]
  },
  {
   "cell_type": "code",
   "execution_count": 81,
   "metadata": {},
   "outputs": [
    {
     "data": {
      "text/plain": [
       "[1, 1, 0]"
      ]
     },
     "execution_count": 81,
     "metadata": {},
     "output_type": "execute_result"
    }
   ],
   "source": [
    "# preds = [0.6, 0.7, 0.1]\n",
    "# preds = [1 if d > 0.5 else 0 for d in preds]\n",
    "# preds"
   ]
  },
  {
   "cell_type": "code",
   "execution_count": null,
   "metadata": {},
   "outputs": [],
   "source": []
  }
 ],
 "metadata": {
  "kernelspec": {
   "display_name": "Python 3",
   "language": "python",
   "name": "python3"
  },
  "language_info": {
   "codemirror_mode": {
    "name": "ipython",
    "version": 3
   },
   "file_extension": ".py",
   "mimetype": "text/x-python",
   "name": "python",
   "nbconvert_exporter": "python",
   "pygments_lexer": "ipython3",
   "version": "3.6.9"
  },
  "orig_nbformat": 4
 },
 "nbformat": 4,
 "nbformat_minor": 2
}
